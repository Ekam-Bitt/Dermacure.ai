{
  "cells": [
    {
      "cell_type": "code",
      "execution_count": null,
      "id": "b8d74346",
      "metadata": {
        "id": "b8d74346"
      },
      "outputs": [],
      "source": [
        "import os\n",
        "import cv2\n",
        "import numpy as np\n",
        "import pandas as pd\n",
        "import seaborn as sns\n",
        "sns.set_style('darkgrid')\n",
        "import tensorflow as tf\n",
        "from tensorflow import keras\n",
        "from tensorflow.keras.layers import Conv2D, MaxPooling2D, Flatten, Dense, Activation, Dropout, BatchNormalization\n",
        "from tensorflow.keras.models import Model, load_model, Sequential\n",
        "from tensorflow.keras.optimizers import Adam, Adamax\n",
        "from tensorflow.keras import regularizers\n",
        "from tensorflow.keras.metrics import categorical_crossentropy\n",
        "from tensorflow.keras.models import load_model\n",
        "import warnings\n",
        "warnings.filterwarnings(\"ignore\")"
      ]
    },
    {
      "cell_type": "code",
      "execution_count": null,
      "id": "6b227520",
      "metadata": {
        "id": "6b227520"
      },
      "outputs": [],
      "source": [
        "def SkinTest(Path):\n",
        "    Class = ['Actinic keratoses and intraepithelial carcinomae','basal cell carcinoma','benign keratosis-like lesions','dermatofibroma','melanocytic nevi','pyogenic granulomas and hemorrhage','melanoma']\n",
        "    model = load_model('C:/Users/IPG3/Downloads/SIH_Project/Untitled Folder/Model_98.h5')\n",
        "    desired_width = 28\n",
        "    desired_height = 28\n",
        "\n",
        "\n",
        "    image = cv2.imread(Path)\n",
        "    image = cv2.cvtColor(image,cv2.COLOR_BGR2RGB)\n",
        "    image = cv2.resize(image, (desired_width, desired_height))\n",
        "    image = np.array(image).reshape(-1, 28, 28, 3)\n",
        "\n",
        "\n",
        "    Y_pred = np.round(model.predict(image)).tolist()\n",
        "    Index = Y_pred[0].index(1.0)\n",
        "\n",
        "\n",
        "    return Class[Index]"
      ]
    },
    {
      "cell_type": "code",
      "execution_count": null,
      "id": "3be26a2c",
      "metadata": {
        "id": "3be26a2c",
        "outputId": "8fe47abc-9209-450b-f063-294a3f89b4d5"
      },
      "outputs": [
        {
          "name": "stdout",
          "output_type": "stream",
          "text": [
            "C:/Users/IPG3/Downloads/SIH_Project/CNN_Img_Important/images/Keratosis/keratosis 1.jpg\n",
            "1/1 [==============================] - 0s 219ms/step\n",
            "melanocytic nevi\n"
          ]
        }
      ],
      "source": [
        "print(SkinTest(input()))"
      ]
    }
  ],
  "metadata": {
    "kernelspec": {
      "display_name": "Python 3 (ipykernel)",
      "language": "python",
      "name": "python3"
    },
    "language_info": {
      "codemirror_mode": {
        "name": "ipython",
        "version": 3
      },
      "file_extension": ".py",
      "mimetype": "text/x-python",
      "name": "python",
      "nbconvert_exporter": "python",
      "pygments_lexer": "ipython3",
      "version": "3.9.12"
    },
    "colab": {
      "provenance": []
    }
  },
  "nbformat": 4,
  "nbformat_minor": 5
}